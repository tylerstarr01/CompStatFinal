{
 "cells": [
  {
   "cell_type": "code",
   "execution_count": 2,
   "id": "initial_id",
   "metadata": {
    "ExecuteTime": {
     "end_time": "2025-04-30T20:56:15.374973900Z",
     "start_time": "2025-04-30T20:56:13.368091700Z"
    },
    "collapsed": true
   },
   "outputs": [],
   "source": [
    "from Analysis import *\n",
    "import Analysis\n",
    "from tssb.utils import load_time_series_segmentation_datasets\n",
    "from tssb.evaluation import covering"
   ]
  },
  {
   "cell_type": "code",
   "execution_count": 3,
   "id": "62c010b0594eee16",
   "metadata": {
    "ExecuteTime": {
     "end_time": "2025-04-30T20:57:23.017846800Z",
     "start_time": "2025-04-30T20:56:17.260113700Z"
    },
    "collapsed": false
   },
   "outputs": [
    {
     "name": "stdout",
     "output_type": "stream",
     "text": [
      "            True Change Points                \\\n",
      "Time Series          ArrowHead   InlineSkate   \n",
      "Algo                                           \n",
      "ClaSP                    [753]  [1058, 2704]   \n",
      "Modified                 [753]  [1058, 2704]   \n",
      "\n",
      "                                                 Found Change Points  \\\n",
      "Time Series                                Plane           ArrowHead   \n",
      "Algo                                                                   \n",
      "ClaSP        [540, 1044, 1368, 1944, 2412, 3060]               [742]   \n",
      "Modified     [540, 1044, 1368, 1944, 2412, 3060]               [742]   \n",
      "\n",
      "                                                                       Score  \\\n",
      "Time Series InlineSkate                                      Plane ArrowHead   \n",
      "Algo                                                                           \n",
      "ClaSP        [490, 944]  [532, 1047, 1166, 1374, 1942, 2411, 3067]  0.985497   \n",
      "Modified          [930]  [532, 1042, 1166, 1372, 1942, 2411, 3067]  0.985497   \n",
      "\n",
      "                                    Run Time                         \n",
      "Time Series InlineSkate     Plane  ArrowHead InlineSkate      Plane  \n",
      "Algo                                                                 \n",
      "ClaSP          0.486369  0.954940   0.060942    0.580099   0.454672  \n",
      "Modified       0.576252  0.956033  32.639837   16.361953  15.606370  \n"
     ]
    }
   ],
   "source": [
    "\n",
    "datasets = [\"ArrowHead\", \"InlineSkate\", \"Plane\"]\n",
    "results = []\n",
    "# comparison = pd.DataFrame(index=datasets)\n",
    "tssb = load_time_series_segmentation_datasets(names=datasets)\n",
    "for _, (ts_name, window_size, cps, ts) in tssb.iterrows():\n",
    "    start_time = time.time()\n",
    "    found_cps = AltBinaryClaSPSegmentation().fit_predict(ts)\n",
    "    end_time = time.time()\n",
    "    score = covering({0: cps}, found_cps, ts.shape[0])\n",
    "    results.append({\n",
    "        'Algo': 'Modified',\n",
    "        'Time Series': ts_name,\n",
    "        # 'True Change Points': cps,\n",
    "        # 'Found Change Points': found_cps.tolist(),\n",
    "        'Score': score,\n",
    "        'Run Time': (end_time - start_time)\n",
    "    })\n",
    "\n",
    "for _, (ts_name, window_size, cps, ts) in tssb.iterrows():\n",
    "    start_time = time.time()\n",
    "    found_cps = BinaryClaSPSegmentation().fit_predict(ts)\n",
    "    end_time = time.time()\n",
    "    score = covering({0: cps}, found_cps, ts.shape[0])\n",
    "    results.append({\n",
    "        'Algo': 'ClaSP',\n",
    "        'Time Series': ts_name,\n",
    "        # 'True Change Points': cps,\n",
    "        # 'Found Change Points': found_cps.tolist(),\n",
    "        'Score': score,\n",
    "        'Run Time': (end_time - start_time)\n",
    "    })\n",
    "\n",
    "results_df = pd.DataFrame(results)\n",
    "print(results_df.pivot(index='Algo', columns='Time Series'))"
   ]
  },
  {
   "cell_type": "code",
   "execution_count": 10,
   "id": "80afe8a600e1e6f3",
   "metadata": {
    "ExecuteTime": {
     "end_time": "2025-05-01T16:41:07.708201600Z",
     "start_time": "2025-05-01T16:41:07.690221200Z"
    },
    "collapsed": false
   },
   "outputs": [
    {
     "data": {
      "text/html": [
       "<div>\n",
       "<style scoped>\n",
       "    .dataframe tbody tr th:only-of-type {\n",
       "        vertical-align: middle;\n",
       "    }\n",
       "\n",
       "    .dataframe tbody tr th {\n",
       "        vertical-align: top;\n",
       "    }\n",
       "\n",
       "    .dataframe thead tr th {\n",
       "        text-align: left;\n",
       "    }\n",
       "\n",
       "    .dataframe thead tr:last-of-type th {\n",
       "        text-align: right;\n",
       "    }\n",
       "</style>\n",
       "<table border=\"1\" class=\"dataframe\">\n",
       "  <thead>\n",
       "    <tr>\n",
       "      <th></th>\n",
       "      <th colspan=\"3\" halign=\"left\">Score</th>\n",
       "      <th colspan=\"3\" halign=\"left\">Run Time</th>\n",
       "    </tr>\n",
       "    <tr>\n",
       "      <th>Time Series</th>\n",
       "      <th>ArrowHead</th>\n",
       "      <th>InlineSkate</th>\n",
       "      <th>Plane</th>\n",
       "      <th>ArrowHead</th>\n",
       "      <th>InlineSkate</th>\n",
       "      <th>Plane</th>\n",
       "    </tr>\n",
       "    <tr>\n",
       "      <th>Algo</th>\n",
       "      <th></th>\n",
       "      <th></th>\n",
       "      <th></th>\n",
       "      <th></th>\n",
       "      <th></th>\n",
       "      <th></th>\n",
       "    </tr>\n",
       "  </thead>\n",
       "  <tbody>\n",
       "    <tr>\n",
       "      <th>ClaSP</th>\n",
       "      <td>0.985497</td>\n",
       "      <td>0.486369</td>\n",
       "      <td>0.954940</td>\n",
       "      <td>0.060942</td>\n",
       "      <td>0.580099</td>\n",
       "      <td>0.454672</td>\n",
       "    </tr>\n",
       "    <tr>\n",
       "      <th>Modified</th>\n",
       "      <td>0.985497</td>\n",
       "      <td>0.576252</td>\n",
       "      <td>0.956033</td>\n",
       "      <td>32.639837</td>\n",
       "      <td>16.361953</td>\n",
       "      <td>15.606370</td>\n",
       "    </tr>\n",
       "  </tbody>\n",
       "</table>\n",
       "</div>"
      ],
      "text/plain": [
       "                Score                         Run Time                       \n",
       "Time Series ArrowHead InlineSkate     Plane  ArrowHead InlineSkate      Plane\n",
       "Algo                                                                         \n",
       "ClaSP        0.985497    0.486369  0.954940   0.060942    0.580099   0.454672\n",
       "Modified     0.985497    0.576252  0.956033  32.639837   16.361953  15.606370"
      ]
     },
     "execution_count": 10,
     "metadata": {},
     "output_type": "execute_result"
    }
   ],
   "source": [
    "results_df.drop(['True Change Points', 'Found Change Points'], axis='columns').pivot(index='Algo', columns='Time Series')\n",
    "# results_df"
   ]
  }
 ],
 "metadata": {
  "kernelspec": {
   "display_name": "Python 3",
   "language": "python",
   "name": "python3"
  },
  "language_info": {
   "codemirror_mode": {
    "name": "ipython",
    "version": 2
   },
   "file_extension": ".py",
   "mimetype": "text/x-python",
   "name": "python",
   "nbconvert_exporter": "python",
   "pygments_lexer": "ipython2",
   "version": "2.7.6"
  }
 },
 "nbformat": 4,
 "nbformat_minor": 5
}
