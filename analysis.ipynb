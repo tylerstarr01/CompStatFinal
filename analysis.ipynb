{
 "cells": [
  {
   "cell_type": "code",
   "execution_count": 2,
   "id": "initial_id",
   "metadata": {
    "ExecuteTime": {
     "end_time": "2025-04-30T20:56:15.374973900Z",
     "start_time": "2025-04-30T20:56:13.368091700Z"
    },
    "collapsed": true
   },
   "outputs": [],
   "source": []
  },
  {
   "cell_type": "code",
   "execution_count": 1,
   "id": "62c010b0594eee16",
   "metadata": {
    "ExecuteTime": {
     "end_time": "2025-04-30T20:57:23.017846800Z",
     "start_time": "2025-04-30T20:56:17.260113700Z"
    },
    "collapsed": false
   },
   "outputs": [],
   "source": [
    "import pandas as pd"
   ]
  },
  {
   "cell_type": "code",
   "execution_count": 5,
   "id": "80afe8a600e1e6f3",
   "metadata": {
    "ExecuteTime": {
     "end_time": "2025-05-01T16:41:07.708201600Z",
     "start_time": "2025-05-01T16:41:07.690221200Z"
    },
    "collapsed": false
   },
   "outputs": [],
   "source": [
    "data = pd.read_csv('standard_datasets.csv')\n",
    "df = data.pivot(index='Time Series', columns='Algo', values='Score')"
   ]
  },
  {
   "cell_type": "code",
   "execution_count": 10,
   "id": "c0d41b2a",
   "metadata": {},
   "outputs": [
    {
     "data": {
      "text/plain": [
       "<Axes: >"
      ]
     },
     "execution_count": 10,
     "metadata": {},
     "output_type": "execute_result"
    },
    {
     "data": {
      "image/png": "[encoded data removed]",
      "text/plain": [
       "<Figure size 640x480 with 1 Axes>"
      ]
     },
     "metadata": {},
     "output_type": "display_data"
    }
   ],
   "source": [
    "error = df['ClaSP']-df['fjlt']\n",
    "error.hist(bins=50)"
   ]
  },
  {
   "cell_type": "code",
   "execution_count": 25,
   "id": "45ae0353",
   "metadata": {},
   "outputs": [
    {
     "data": {
      "text/html": [
       "<div>\n",
       "<style scoped>\n",
       "    .dataframe tbody tr th:only-of-type {\n",
       "        vertical-align: middle;\n",
       "    }\n",
       "\n",
       "    .dataframe tbody tr th {\n",
       "        vertical-align: top;\n",
       "    }\n",
       "\n",
       "    .dataframe thead th {\n",
       "        text-align: right;\n",
       "    }\n",
       "</style>\n",
       "<table border=\"1\" class=\"dataframe\">\n",
       "  <thead>\n",
       "    <tr style=\"text-align: right;\">\n",
       "      <th></th>\n",
       "      <th>Algo</th>\n",
       "      <th>Found Change Points</th>\n",
       "      <th>True Change Points</th>\n",
       "      <th>Score</th>\n",
       "      <th>Run Time</th>\n",
       "    </tr>\n",
       "    <tr>\n",
       "      <th>Time Series</th>\n",
       "      <th></th>\n",
       "      <th></th>\n",
       "      <th></th>\n",
       "      <th></th>\n",
       "      <th></th>\n",
       "    </tr>\n",
       "  </thead>\n",
       "  <tbody>\n",
       "    <tr>\n",
       "      <th>Yoga</th>\n",
       "      <td>fjlt</td>\n",
       "      <td>[7379]</td>\n",
       "      <td>[7295]</td>\n",
       "      <td>0.989543</td>\n",
       "      <td>46.102131</td>\n",
       "    </tr>\n",
       "    <tr>\n",
       "      <th>WordSynonyms</th>\n",
       "      <td>fjlt</td>\n",
       "      <td>[]</td>\n",
       "      <td>[ 202 2227]</td>\n",
       "      <td>0.726924</td>\n",
       "      <td>9.064301</td>\n",
       "    </tr>\n",
       "    <tr>\n",
       "      <th>UWaveGestureLibraryZ</th>\n",
       "      <td>fjlt</td>\n",
       "      <td>[601, 1132, 2191]</td>\n",
       "      <td>[ 600 1131 1652 2193]</td>\n",
       "      <td>0.809592</td>\n",
       "      <td>7.902190</td>\n",
       "    </tr>\n",
       "    <tr>\n",
       "      <th>UWaveGestureLibraryY</th>\n",
       "      <td>fjlt</td>\n",
       "      <td>[]</td>\n",
       "      <td>[ 600 1131 1652 2193]</td>\n",
       "      <td>0.201068</td>\n",
       "      <td>7.304916</td>\n",
       "    </tr>\n",
       "    <tr>\n",
       "      <th>UWaveGestureLibraryX</th>\n",
       "      <td>fjlt</td>\n",
       "      <td>[595, 1132, 1648, 2194]</td>\n",
       "      <td>[ 600 1131 1652 2193]</td>\n",
       "      <td>0.992233</td>\n",
       "      <td>7.286405</td>\n",
       "    </tr>\n",
       "    <tr>\n",
       "      <th>...</th>\n",
       "      <td>...</td>\n",
       "      <td>...</td>\n",
       "      <td>...</td>\n",
       "      <td>...</td>\n",
       "      <td>...</td>\n",
       "    </tr>\n",
       "    <tr>\n",
       "      <th>BirdChicken</th>\n",
       "      <td>fjlt</td>\n",
       "      <td>[1275]</td>\n",
       "      <td>[1280]</td>\n",
       "      <td>0.996101</td>\n",
       "      <td>6.717521</td>\n",
       "    </tr>\n",
       "    <tr>\n",
       "      <th>BeetleFly</th>\n",
       "      <td>fjlt</td>\n",
       "      <td>[1193]</td>\n",
       "      <td>[1280]</td>\n",
       "      <td>0.934194</td>\n",
       "      <td>7.725263</td>\n",
       "    </tr>\n",
       "    <tr>\n",
       "      <th>Beef</th>\n",
       "      <td>fjlt</td>\n",
       "      <td>[]</td>\n",
       "      <td>[705]</td>\n",
       "      <td>0.500000</td>\n",
       "      <td>5.239191</td>\n",
       "    </tr>\n",
       "    <tr>\n",
       "      <th>ArrowHead</th>\n",
       "      <td>fjlt</td>\n",
       "      <td>[748]</td>\n",
       "      <td>[753]</td>\n",
       "      <td>0.993382</td>\n",
       "      <td>5.631754</td>\n",
       "    </tr>\n",
       "    <tr>\n",
       "      <th>Adiac</th>\n",
       "      <td>fjlt</td>\n",
       "      <td>[340, 575, 1010, 1226]</td>\n",
       "      <td>[ 572 1012 1232]</td>\n",
       "      <td>0.821925</td>\n",
       "      <td>6.315565</td>\n",
       "    </tr>\n",
       "  </tbody>\n",
       "</table>\n",
       "<p>76 rows × 5 columns</p>\n",
       "</div>"
      ],
      "text/plain": [
       "                      Algo      Found Change Points     True Change Points  \\\n",
       "Time Series                                                                  \n",
       "Yoga                  fjlt                   [7379]                 [7295]   \n",
       "WordSynonyms          fjlt                       []            [ 202 2227]   \n",
       "UWaveGestureLibraryZ  fjlt        [601, 1132, 2191]  [ 600 1131 1652 2193]   \n",
       "UWaveGestureLibraryY  fjlt                       []  [ 600 1131 1652 2193]   \n",
       "UWaveGestureLibraryX  fjlt  [595, 1132, 1648, 2194]  [ 600 1131 1652 2193]   \n",
       "...                    ...                      ...                    ...   \n",
       "BirdChicken           fjlt                   [1275]                 [1280]   \n",
       "BeetleFly             fjlt                   [1193]                 [1280]   \n",
       "Beef                  fjlt                       []                  [705]   \n",
       "ArrowHead             fjlt                    [748]                  [753]   \n",
       "Adiac                 fjlt   [340, 575, 1010, 1226]       [ 572 1012 1232]   \n",
       "\n",
       "                         Score   Run Time  \n",
       "Time Series                                \n",
       "Yoga                  0.989543  46.102131  \n",
       "WordSynonyms          0.726924   9.064301  \n",
       "UWaveGestureLibraryZ  0.809592   7.902190  \n",
       "UWaveGestureLibraryY  0.201068   7.304916  \n",
       "UWaveGestureLibraryX  0.992233   7.286405  \n",
       "...                        ...        ...  \n",
       "BirdChicken           0.996101   6.717521  \n",
       "BeetleFly             0.934194   7.725263  \n",
       "Beef                  0.500000   5.239191  \n",
       "ArrowHead             0.993382   5.631754  \n",
       "Adiac                 0.821925   6.315565  \n",
       "\n",
       "[76 rows x 5 columns]"
      ]
     },
     "execution_count": 25,
     "metadata": {},
     "output_type": "execute_result"
    }
   ],
   "source": [
    "error.describe()\n",
    "\n",
    "clasp_fjlt_scores = data[data['Algo']=='fjlt'].set_index('Time Series')\n",
    "clasp_fjlt_scores"
   ]
  },
  {
   "cell_type": "code",
   "execution_count": 26,
   "id": "37ca836f",
   "metadata": {},
   "outputs": [],
   "source": [
    "df_scores = pd.read_csv(\"segmentation_covering_unknown.csv\").set_index('dataset')\n",
    "df_scores['ClaSP-FJLT'] = clasp_fjlt_scores['Score']"
   ]
  },
  {
   "cell_type": "code",
   "execution_count": 29,
   "id": "5fad7537",
   "metadata": {},
   "outputs": [
    {
     "data": {
      "text/plain": [
       "ESPRESSO      0.443587\n",
       "BOCD          0.448800\n",
       "Window        0.401013\n",
       "PELT          0.581027\n",
       "BinSeg        0.574933\n",
       "FLOSS         0.567400\n",
       "ClaSP         0.854720\n",
       "ClaSP-FJLT    0.738636\n",
       "dtype: float64"
      ]
     },
     "execution_count": 29,
     "metadata": {},
     "output_type": "execute_result"
    }
   ],
   "source": [
    "df_scores.mean()"
   ]
  },
  {
   "cell_type": "code",
   "execution_count": 31,
   "id": "cd4e1c9d",
   "metadata": {},
   "outputs": [
    {
     "data": {
      "text/plain": [
       "count    76.000000\n",
       "mean      0.074154\n",
       "std       0.221671\n",
       "min      -0.496101\n",
       "25%      -0.000714\n",
       "50%       0.000000\n",
       "75%       0.008603\n",
       "max       0.789621\n",
       "dtype: float64"
      ]
     },
     "execution_count": 31,
     "metadata": {},
     "output_type": "execute_result"
    }
   ],
   "source": [
    "error.describe()"
   ]
  }
 ],
 "metadata": {
  "kernelspec": {
   "display_name": ".venv",
   "language": "python",
   "name": "python3"
  },
  "language_info": {
   "codemirror_mode": {
    "name": "ipython",
    "version": 3
   },
   "file_extension": ".py",
   "mimetype": "text/x-python",
   "name": "python",
   "nbconvert_exporter": "python",
   "pygments_lexer": "ipython3",
   "version": "3.10.0"
  }
 },
 "nbformat": 4,
 "nbformat_minor": 5
}
