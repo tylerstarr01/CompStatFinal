{
 "cells": [
  {
   "cell_type": "code",
   "execution_count": null,
   "id": "initial_id",
   "metadata": {
    "collapsed": true,
    "is_executing": true
   },
   "outputs": [],
   "source": [
    "from tssb.utils import load_time_series_segmentation_datasets\n",
    "from tssb.evaluation import covering\n",
    "from claspy.segmentation import BinaryClaSPSegmentation"
   ]
  },
  {
   "cell_type": "code",
   "outputs": [],
   "source": [
    "tssb = load_time_series_segmentation_datasets()\n"
   ],
   "metadata": {
    "collapsed": false,
    "is_executing": true
   },
   "id": "392505e5c68e4cce"
  },
  {
   "cell_type": "code",
   "outputs": [],
   "source": [
    "for _, (ts_name, window_size, cps, ts) in tssb.iterrows():\n",
    "   found_cps = BinaryClaSPSegmentation().fit_predict(ts)\n",
    "   score = covering({0: cps}, found_cps, ts.shape[0])\n",
    "   print(f\"Time Series: {ts_name}: True Change Points: {cps}, Found Change Points: {found_cps.tolist()}, Score: {score}\")"
   ],
   "metadata": {
    "collapsed": false,
    "is_executing": true
   },
   "id": "d7ce35d108fb6210"
  },
  {
   "cell_type": "code",
   "outputs": [],
   "source": [],
   "metadata": {
    "collapsed": false
   },
   "id": "329efee28ee2e029"
  }
 ],
 "metadata": {
  "kernelspec": {
   "display_name": "Python 3",
   "language": "python",
   "name": "python3"
  },
  "language_info": {
   "codemirror_mode": {
    "name": "ipython",
    "version": 2
   },
   "file_extension": ".py",
   "mimetype": "text/x-python",
   "name": "python",
   "nbconvert_exporter": "python",
   "pygments_lexer": "ipython2",
   "version": "2.7.6"
  }
 },
 "nbformat": 4,
 "nbformat_minor": 5
}
