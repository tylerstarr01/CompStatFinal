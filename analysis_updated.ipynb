{
 "cells": [
  {
   "cell_type": "code",
   "execution_count": 3,
   "id": "initial_id",
   "metadata": {
    "collapsed": true
   },
   "outputs": [],
   "source": [
    "from Analysis import *\n",
    "import Analysis\n",
    "from tssb.utils import load_time_series_segmentation_datasets\n",
    "from tssb.evaluation import covering\n",
    "import time\n",
    "import pandas as pd"
   ]
  },
  {
   "cell_type": "code",
   "execution_count": 4,
   "metadata": {},
   "outputs": [
    {
     "ename": "ValueError",
     "evalue": "euclidean is not a valid distance. Implementations include: znormed_euclidean_distance, euclidean_distance, cinvariant_euclidean_distance",
     "output_type": "error",
     "traceback": [
      "\u001b[1;31m---------------------------------------------------------------------------\u001b[0m",
      "\u001b[1;31mValueError\u001b[0m                                Traceback (most recent call last)",
      "Cell \u001b[1;32mIn[4], line 23\u001b[0m\n\u001b[0;32m     21\u001b[0m \u001b[38;5;28;01mfor\u001b[39;00m _, (ts_name, window_size, cps, ts) \u001b[38;5;129;01min\u001b[39;00m tssb\u001b[38;5;241m.\u001b[39miterrows():\n\u001b[0;32m     22\u001b[0m     start_time \u001b[38;5;241m=\u001b[39m time\u001b[38;5;241m.\u001b[39mtime()\n\u001b[1;32m---> 23\u001b[0m     found_cps \u001b[38;5;241m=\u001b[39m AltBinaryClaSPSegmentation(knn\u001b[38;5;241m=\u001b[39m\u001b[43mAltKNN\u001b[49m\u001b[43m(\u001b[49m\u001b[43mmethod\u001b[49m\u001b[38;5;241;43m=\u001b[39;49m\u001b[38;5;124;43m\"\u001b[39;49m\u001b[38;5;124;43mhnsw\u001b[39;49m\u001b[38;5;124;43m\"\u001b[39;49m\u001b[43m)\u001b[49m)\u001b[38;5;241m.\u001b[39mfit_predict(ts)\n\u001b[0;32m     24\u001b[0m     end_time \u001b[38;5;241m=\u001b[39m time\u001b[38;5;241m.\u001b[39mtime()\n\u001b[0;32m     25\u001b[0m     score \u001b[38;5;241m=\u001b[39m covering({\u001b[38;5;241m0\u001b[39m: cps}, found_cps, ts\u001b[38;5;241m.\u001b[39mshape[\u001b[38;5;241m0\u001b[39m])\n",
      "File \u001b[1;32mc:\\Users\\tyler\\PycharmProjects\\CompStatFinal\\Analysis.py:467\u001b[0m, in \u001b[0;36mAltKNN.__init__\u001b[1;34m(self, window_size, k_neighbours, distance, n_jobs, method, **kwargs)\u001b[0m\n\u001b[0;32m    465\u001b[0m \u001b[38;5;28;01mdef\u001b[39;00m\u001b[38;5;250m \u001b[39m\u001b[38;5;21m__init__\u001b[39m(\u001b[38;5;28mself\u001b[39m, window_size\u001b[38;5;241m=\u001b[39m\u001b[38;5;241m10\u001b[39m, k_neighbours\u001b[38;5;241m=\u001b[39m\u001b[38;5;241m10\u001b[39m, distance\u001b[38;5;241m=\u001b[39m\u001b[38;5;124m\"\u001b[39m\u001b[38;5;124meuclidean\u001b[39m\u001b[38;5;124m\"\u001b[39m,\n\u001b[0;32m    466\u001b[0m              n_jobs\u001b[38;5;241m=\u001b[39m\u001b[38;5;241m1\u001b[39m, method\u001b[38;5;241m=\u001b[39m\u001b[38;5;124m\"\u001b[39m\u001b[38;5;124mhnsw\u001b[39m\u001b[38;5;124m\"\u001b[39m, \u001b[38;5;241m*\u001b[39m\u001b[38;5;241m*\u001b[39mkwargs):\n\u001b[1;32m--> 467\u001b[0m     \u001b[38;5;28msuper\u001b[39m()\u001b[38;5;241m.\u001b[39m\u001b[38;5;21m__init__\u001b[39m(window_size\u001b[38;5;241m=\u001b[39mwindow_size, k_neighbours\u001b[38;5;241m=\u001b[39mk_neighbours,\n\u001b[0;32m    468\u001b[0m                     distance\u001b[38;5;241m=\u001b[39mdistance, n_jobs\u001b[38;5;241m=\u001b[39mn_jobs, \u001b[38;5;241m*\u001b[39m\u001b[38;5;241m*\u001b[39mkwargs)\n\u001b[0;32m    469\u001b[0m     \u001b[38;5;28mself\u001b[39m\u001b[38;5;241m.\u001b[39mmethod \u001b[38;5;241m=\u001b[39m method\n\u001b[0;32m    470\u001b[0m     \u001b[38;5;28mself\u001b[39m\u001b[38;5;241m.\u001b[39mimpl \u001b[38;5;241m=\u001b[39m HNSWKNN(window_size, k_neighbours, distance, n_jobs, \u001b[38;5;241m*\u001b[39m\u001b[38;5;241m*\u001b[39mkwargs) \u001b[38;5;28;01mif\u001b[39;00m method \u001b[38;5;241m==\u001b[39m \u001b[38;5;124m\"\u001b[39m\u001b[38;5;124mhnsw\u001b[39m\u001b[38;5;124m\"\u001b[39m \u001b[38;5;28;01melse\u001b[39;00m \\\n\u001b[0;32m    471\u001b[0m                FJLTKNN(window_size, k_neighbours, distance, n_jobs, \u001b[38;5;241m*\u001b[39m\u001b[38;5;241m*\u001b[39mkwargs)\n",
      "File \u001b[1;32mc:\\Users\\tyler\\PycharmProjects\\CompStatFinal\\Analysis.py:351\u001b[0m, in \u001b[0;36mBaseKNN.__init__\u001b[1;34m(self, window_size, k_neighbours, distance, n_jobs, **kwargs)\u001b[0m\n\u001b[0;32m    349\u001b[0m \u001b[38;5;28;01mdef\u001b[39;00m\u001b[38;5;250m \u001b[39m\u001b[38;5;21m__init__\u001b[39m(\u001b[38;5;28mself\u001b[39m, window_size\u001b[38;5;241m=\u001b[39m\u001b[38;5;241m10\u001b[39m, k_neighbours\u001b[38;5;241m=\u001b[39m\u001b[38;5;241m10\u001b[39m, distance\u001b[38;5;241m=\u001b[39m\u001b[38;5;124m\"\u001b[39m\u001b[38;5;124meuclidean\u001b[39m\u001b[38;5;124m\"\u001b[39m,\n\u001b[0;32m    350\u001b[0m              n_jobs\u001b[38;5;241m=\u001b[39m\u001b[38;5;241m1\u001b[39m, \u001b[38;5;241m*\u001b[39m\u001b[38;5;241m*\u001b[39mkwargs):\n\u001b[1;32m--> 351\u001b[0m     \u001b[38;5;28;43msuper\u001b[39;49m\u001b[43m(\u001b[49m\u001b[43m)\u001b[49m\u001b[38;5;241;43m.\u001b[39;49m\u001b[38;5;21;43m__init__\u001b[39;49m\u001b[43m(\u001b[49m\u001b[43mwindow_size\u001b[49m\u001b[38;5;241;43m=\u001b[39;49m\u001b[43mwindow_size\u001b[49m\u001b[43m,\u001b[49m\u001b[43m \u001b[49m\u001b[43mk_neighbours\u001b[49m\u001b[38;5;241;43m=\u001b[39;49m\u001b[43mk_neighbours\u001b[49m\u001b[43m,\u001b[49m\n\u001b[0;32m    352\u001b[0m \u001b[43m                    \u001b[49m\u001b[43mdistance\u001b[49m\u001b[38;5;241;43m=\u001b[39;49m\u001b[43mdistance\u001b[49m\u001b[43m,\u001b[49m\u001b[43m \u001b[49m\u001b[43mn_jobs\u001b[49m\u001b[38;5;241;43m=\u001b[39;49m\u001b[43mn_jobs\u001b[49m\u001b[43m)\u001b[49m\n\u001b[0;32m    353\u001b[0m     \u001b[38;5;28mself\u001b[39m\u001b[38;5;241m.\u001b[39mkwargs \u001b[38;5;241m=\u001b[39m kwargs\n",
      "File \u001b[1;32mc:\\Users\\tyler\\PycharmProjects\\CompStatFinal\\.venv\\lib\\site-packages\\claspy\\nearest_neighbour.py:349\u001b[0m, in \u001b[0;36mKSubsequenceNeighbours.__init__\u001b[1;34m(self, window_size, k_neighbours, distance, n_jobs)\u001b[0m\n\u001b[0;32m    347\u001b[0m \u001b[38;5;28mself\u001b[39m\u001b[38;5;241m.\u001b[39mk_neighbours \u001b[38;5;241m=\u001b[39m k_neighbours\n\u001b[0;32m    348\u001b[0m \u001b[38;5;28mself\u001b[39m\u001b[38;5;241m.\u001b[39mdistance_name \u001b[38;5;241m=\u001b[39m distance\n\u001b[1;32m--> 349\u001b[0m \u001b[38;5;28mself\u001b[39m\u001b[38;5;241m.\u001b[39mdistance_preprocessing, \u001b[38;5;28mself\u001b[39m\u001b[38;5;241m.\u001b[39mdistance \u001b[38;5;241m=\u001b[39m \u001b[43mmap_distances\u001b[49m\u001b[43m(\u001b[49m\u001b[43mdistance\u001b[49m\u001b[43m)\u001b[49m\n\u001b[0;32m    350\u001b[0m \u001b[38;5;28mself\u001b[39m\u001b[38;5;241m.\u001b[39mn_jobs \u001b[38;5;241m=\u001b[39m os\u001b[38;5;241m.\u001b[39mcpu_count() \u001b[38;5;28;01mif\u001b[39;00m n_jobs \u001b[38;5;241m<\u001b[39m \u001b[38;5;241m1\u001b[39m \u001b[38;5;28;01melse\u001b[39;00m n_jobs\n",
      "File \u001b[1;32mc:\\Users\\tyler\\PycharmProjects\\CompStatFinal\\.venv\\lib\\site-packages\\claspy\\distance.py:240\u001b[0m, in \u001b[0;36mmap_distances\u001b[1;34m(distance_name)\u001b[0m\n\u001b[0;32m    215\u001b[0m \u001b[38;5;250m\u001b[39m\u001b[38;5;124;03m\"\"\"\u001b[39;00m\n\u001b[0;32m    216\u001b[0m \u001b[38;5;124;03mComputes and returns the distance function and its corresponding preprocessing function, given a distance name.\u001b[39;00m\n\u001b[0;32m    217\u001b[0m \n\u001b[1;32m   (...)\u001b[0m\n\u001b[0;32m    237\u001b[0m \u001b[38;5;124;03m    and \"euclidean_distance\".\u001b[39;00m\n\u001b[0;32m    238\u001b[0m \u001b[38;5;124;03m\"\"\"\u001b[39;00m\n\u001b[0;32m    239\u001b[0m \u001b[38;5;28;01mif\u001b[39;00m distance_name \u001b[38;5;129;01mnot\u001b[39;00m \u001b[38;5;129;01min\u001b[39;00m _DISTANCE_MAPPING:\n\u001b[1;32m--> 240\u001b[0m     \u001b[38;5;28;01mraise\u001b[39;00m \u001b[38;5;167;01mValueError\u001b[39;00m(\n\u001b[0;32m    241\u001b[0m         \u001b[38;5;124mf\u001b[39m\u001b[38;5;124m\"\u001b[39m\u001b[38;5;132;01m{\u001b[39;00mdistance_name\u001b[38;5;132;01m}\u001b[39;00m\u001b[38;5;124m is not a valid distance. Implementations include: \u001b[39m\u001b[38;5;132;01m{\u001b[39;00m\u001b[38;5;124m'\u001b[39m\u001b[38;5;124m, \u001b[39m\u001b[38;5;124m'\u001b[39m\u001b[38;5;241m.\u001b[39mjoin(_DISTANCE_MAPPING\u001b[38;5;241m.\u001b[39mkeys())\u001b[38;5;132;01m}\u001b[39;00m\u001b[38;5;124m\"\u001b[39m)\n\u001b[0;32m    243\u001b[0m \u001b[38;5;28;01mreturn\u001b[39;00m _DISTANCE_MAPPING[distance_name]\n",
      "\u001b[1;31mValueError\u001b[0m: euclidean is not a valid distance. Implementations include: znormed_euclidean_distance, euclidean_distance, cinvariant_euclidean_distance"
     ]
    }
   ],
   "source": [
    "datasets = [\"ArrowHead\", \"InlineSkate\", \"Plane\"]\n",
    "results = []\n",
    "tssb = load_time_series_segmentation_datasets(names=datasets)\n",
    "\n",
    "# Test ClaSP implementation\n",
    "for _, (ts_name, window_size, cps, ts) in tssb.iterrows():\n",
    "    start_time = time.time()\n",
    "    found_cps = BinaryClaSPSegmentation().fit_predict(ts)\n",
    "    end_time = time.time()\n",
    "    score = covering({0: cps}, found_cps, ts.shape[0])\n",
    "    results.append({\n",
    "        'Algo': 'ClaSP',\n",
    "        'Time Series': ts_name,\n",
    "        'True Change Points': cps,\n",
    "        'Found Change Points': found_cps.tolist(),\n",
    "        'Score': score,\n",
    "        'Run Time': (end_time - start_time)\n",
    "    })\n",
    "\n",
    "# Test HNSW implementation\n",
    "for _, (ts_name, window_size, cps, ts) in tssb.iterrows():\n",
    "    start_time = time.time()\n",
    "    found_cps = AltBinaryClaSPSegmentation(knn=AltKNN(method=\"hnsw\")).fit_predict(ts)\n",
    "    end_time = time.time()\n",
    "    score = covering({0: cps}, found_cps, ts.shape[0])\n",
    "    results.append({\n",
    "        'Algo': 'HNSW',\n",
    "        'Time Series': ts_name,\n",
    "        'True Change Points': cps,\n",
    "        'Found Change Points': found_cps.tolist(),\n",
    "        'Score': score,\n",
    "        'Run Time': (end_time - start_time)\n",
    "    })\n",
    "\n",
    "# Test FJLT implementation\n",
    "for _, (ts_name, window_size, cps, ts) in tssb.iterrows():\n",
    "    start_time = time.time()\n",
    "    found_cps = AltBinaryClaSPSegmentation(knn=AltKNN(method=\"fjlt\")).fit_predict(ts)\n",
    "    end_time = time.time()\n",
    "    score = covering({0: cps}, found_cps, ts.shape[0])\n",
    "    results.append({\n",
    "        'Algo': 'FJLT',\n",
    "        'Time Series': ts_name,\n",
    "        'True Change Points': cps,\n",
    "        'Found Change Points': found_cps.tolist(),\n",
    "        'Score': score,\n",
    "        'Run Time': (end_time - start_time)\n",
    "    })\n",
    "\n",
    "# Create DataFrame and display results\n",
    "results_df = pd.DataFrame(results)\n",
    "pd.set_option('display.max_columns', None)\n",
    "pd.set_option('display.max_rows', None)\n",
    "pd.set_option('display.width', None)\n",
    "pd.set_option('display.max_colwidth', None)\n",
    "\n",
    "print(\"\\n=== Full Results DataFrame ===\")\n",
    "print(results_df.to_string())\n",
    "print(\"\\n=== Pivoted View ===\")\n",
    "print(results_df.pivot(index='Algo', columns='Time Series').to_string())"
   ]
  },
  {
   "cell_type": "code",
   "execution_count": null,
   "metadata": {},
   "outputs": [],
   "source": [
    "# Display a cleaner view focusing on scores and run times\n",
    "print(\"\\n=== Performance Comparison ===\")\n",
    "print(results_df.drop(['True Change Points', 'Found Change Points'], axis='columns')\n",
    "      .pivot(index='Algo', columns='Time Series').to_string())"
   ]
  },
  {
   "cell_type": "code",
   "execution_count": null,
   "id": "30ec330b",
   "metadata": {},
   "outputs": [],
   "source": []
  }
 ],
 "metadata": {
  "kernelspec": {
   "display_name": ".venv",
   "language": "python",
   "name": "python3"
  },
  "language_info": {
   "codemirror_mode": {
    "name": "ipython",
    "version": 3
   },
   "file_extension": ".py",
   "mimetype": "text/x-python",
   "name": "python",
   "nbconvert_exporter": "python",
   "pygments_lexer": "ipython3",
   "version": "3.10.0"
  }
 },
 "nbformat": 4,
 "nbformat_minor": 5
}
